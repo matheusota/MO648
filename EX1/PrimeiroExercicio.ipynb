{
 "cells": [
  {
   "cell_type": "markdown",
   "metadata": {},
   "source": [
    "# Primeiro Exercício\n",
    "\n",
    "### Aluno: Matheus Jun Ota\n",
    "### RA: 138889\n",
    "\n",
    "> Fazer um programa de simulação e coletar dados para plotar um gráfico retardo médio x utilização. \n",
    "A utilização é a razão entre a taxa de chegada e a taxa de serviço do servidor. Assuma que o intervalo entre a chegada \n",
    "de pacotes é exponencialmente distribuído, bem como o tamanho dos pacotes. Entregar relatório com gráfico, código \n",
    "fonte e explicação de como derivou intervalo de confiança e qual foi o critério adotado para eliminar o transiente da \n",
    "simulação.\n",
    "\n",
    "Queremos fazer a simulação de uma fila M/M/1 onde o a taxa de chegada e a taxa de serviço (proporcional ao tamanho do pacote) seguem a distribuição exponencial. Para isso utilizaremos a linguagem Python, e o relatório será escrito no Jupyter Notebook."
   ]
  },
  {
   "cell_type": "code",
   "execution_count": 1,
   "metadata": {},
   "outputs": [],
   "source": [
    "import numpy as np\n",
    "import pandas as pd\n",
    "import seaborn as sns\n",
    "import itertools\n",
    "import matplotlib.pyplot as plt\n",
    "import math\n",
    "import random\n",
    "import statistics \n",
    "from collections import deque\n",
    "\n",
    "class Queue():\n",
    "    def __init__(self, arrivalRate, departureRate):\n",
    "        self.usersInQueue = 0\n",
    "        self.servicedUsers = 0\n",
    "        self.currTime = 0\n",
    "        self.arrivalParam = arrivalRate\n",
    "        self.departureParam = departureRate\n",
    "        self.arrivalTime = self.getRandomTime(self.arrivalParam)\n",
    "        self.inQueueArrivals = deque()\n",
    "        self.departureTime = float(\"inf\")\n",
    "        self.totalDelay = 0"
   ]
  },
  {
   "cell_type": "markdown",
   "metadata": {},
   "source": [
    "A fim de facilitar a simulação, iremos proceder com uma abordagem baseada em orientação a objetos. Assim, começamos por declarar uma classe **Queue** que possui um construtor que recebe como parâmetros a taxa de chegada e a taxa de serviço. Além disso, vamos supor que os tempos utilizados no simulados estão em segundos. Os atributos da classe são os seguintes:\n",
    "\n",
    "**usersInQueue**: número de usuários na fila \n",
    "\n",
    "**currTime**: tempo corrente na simulação da fila\n",
    "\n",
    "**arrivalParam**: parâmetro utilizado na distribuição exponencial para obter o intervalo entre chegada de pacotes\n",
    "\n",
    "**departureParam**: parâmetro utilizado na distribuição exponencial para obter o tempo de serviço do pacote\n",
    "\n",
    "**arrivalTime**: tempo para a chegada do próximo pacote\n",
    "\n",
    "**inQueueArrivals**: lista com os tempos de chegada dos pacotes que estão na fila\n",
    "\n",
    "**departureTime**: tempo para a saída do próximo pacote\n",
    "\n",
    "**totalDelay**: tempo total que os pacotes esperaram para serem atendidos."
   ]
  },
  {
   "cell_type": "code",
   "execution_count": 2,
   "metadata": {},
   "outputs": [],
   "source": [
    "class Queue(Queue):\n",
    "    def getRandomTime(self, param):\n",
    "        return random.expovariate(param)"
   ]
  },
  {
   "cell_type": "markdown",
   "metadata": {},
   "source": [
    "Essa função simplesmente retorna um número de acordo com a distribuição exponencial com parâmetro dado por **param**.\n",
    "Como é de se esperar, utilizaremos esse método para gerar os intervalos entre chegadas e o tempo de serviço de cada pacote.\n",
    "\n",
    "Obs.: Como não é possível escrever diferentes blocos de código para a mesma classe no Jupyter Notebook, fizemos a \"redeclaração\" da classe **Queue**, e herdamos dela mesma. Assim, temos uma classe **Queue** com todos os métodos declarados para ela até agora."
   ]
  },
  {
   "cell_type": "code",
   "execution_count": 3,
   "metadata": {},
   "outputs": [],
   "source": [
    "class Queue(Queue):\n",
    "    def goToNextEvent(self):\n",
    "        if self.arrivalTime < self.departureTime:\n",
    "            self.currTime = self.arrivalTime\n",
    "            self.handleArrivalEvent()\n",
    "        else:\n",
    "            self.currTime = self.departureTime\n",
    "            self.handleDepartureEvent()"
   ]
  },
  {
   "cell_type": "markdown",
   "metadata": {},
   "source": [
    "Aqui definimos um método para avançar o tempo corrente da fila para o próximo evento (chegada ou saída de cliente) e tratá-lo de acordo."
   ]
  },
  {
   "cell_type": "code",
   "execution_count": 4,
   "metadata": {},
   "outputs": [],
   "source": [
    "class Queue(Queue):\n",
    "    def handleArrivalEvent(self):\n",
    "        self.usersInQueue += 1\n",
    "\n",
    "        if self.usersInQueue <= 1:\n",
    "            self.departureTime = self.currTime + self.getRandomTime(self.departureParam)\n",
    "\n",
    "        self.inQueueArrivals.append(self.arrivalTime)\n",
    "        self.arrivalTime = self.currTime + self.getRandomTime(self.arrivalParam)"
   ]
  },
  {
   "cell_type": "markdown",
   "metadata": {},
   "source": [
    "Nesse método fazemos o tratamento de um evento de chegada de cliente. Seja $t_s$ uma função que mapeia cada cliente para o seu tempo de saída e $t_c$ uma função que mapeia para o tempo de chegada, se após o evento de chegada de cliente, a fila possuir somente um usuário $u_1$ na fila, isso significa que o próximo tempo de saída deve ser correspondente ao tempo de saída de $u_1$, isto é, $t_s(u_1)$. Pois para qualquer outro usuário $u_2$ que chegue após $u_1$, teremos que $t_s(u_2) \\geq t_s(u_1)$, pois $t_c(u_2) \\geq t_c(u_1)$ e a fila é do tipo FIFO (First-In-First-Out).\n",
    "\n",
    "Obs.: Note que ao invés de gerar uma lista de eventos de chegada e de saída, e simular esses eventos na fila; nós nos preocupamos somente com o tempo do próximo evento de chegada/saída de pacote. Isso pode ser feito pois, seja $C = [t_c(u_1), ..., t_c(u_n)]$ uma lista ordenada em ordem crescente, então $S = [t_s(u_1), ..., t_s(u_n)]$ também está ordenada em ordem crescente, pois a fila é do tipo FIFO. Logo, não precisamos ter uma lista de eventos com os tempos de chegada/saída, basta que mantenhamos a invariante de que **departureTime** seja sempre um tempo de saída de um cliente que está na fila e que chegou antes dos outros. Por outro lado, precisamos da lista **inQueueArrivals** para calcular o delay experienciado por cada pacote."
   ]
  },
  {
   "cell_type": "code",
   "execution_count": 5,
   "metadata": {},
   "outputs": [],
   "source": [
    "class Queue(Queue):\n",
    "    def handleDepartureEvent(self):\n",
    "        self.usersInQueue -= 1\n",
    "        self.servicedUsers += 1\n",
    "        \n",
    "        # add the delay of this packet and remove it from the inQueueArrivals list\n",
    "        self.totalDelay += (self.departureTime - self.inQueueArrivals[0])\n",
    "        self.inQueueArrivals.popleft()\n",
    "        \n",
    "        if self.usersInQueue > 0:\n",
    "            self.departureTime = self.currTime + self.getRandomTime(self.departureParam)\n",
    "        else:\n",
    "            self.departureTime = float(\"inf\")"
   ]
  },
  {
   "cell_type": "markdown",
   "metadata": {},
   "source": [
    "Semelhantemente ao método acima, nesse método fazemos o tratamento de um evento de saída de cliente. Se após a saída do cliente, a fila está vazia, então não existe um próximo tempo de saída (**departureTime = $\\infty$**), caso contrário, temos que setar um novo tempo de saída para o pacote que está \"na frente\" da fila."
   ]
  },
  {
   "cell_type": "code",
   "execution_count": 6,
   "metadata": {},
   "outputs": [],
   "source": [
    "class Queue(Queue):\n",
    "    def getMeanDelay(self):\n",
    "        if self.servicedUsers == 0:\n",
    "            return 0\n",
    "        else:\n",
    "            return self.totalDelay / self.servicedUsers"
   ]
  },
  {
   "cell_type": "markdown",
   "metadata": {},
   "source": [
    "Por fim, esse método simplesmente calcula o retardo médio experienciado pelos pacotes.\n",
    "\n",
    "Agora que temos a classe **Queue**, afim de obter de maneira fácil o intervalo de confiança das medidas que serão feitas, vamos criar também uma classe **QueueStatistics** que irá fornecer um método para obter a média aritmética de uma lista; e outro para calcular o erro de uma amostra, que é a variação utilizada no intervalo de confiança, dada por $\\frac{1.96}{\\sqrt{n}} * \\sigma$. Onde $\\sigma$ denota o desvio padrão da amostra."
   ]
  },
  {
   "cell_type": "code",
   "execution_count": 7,
   "metadata": {},
   "outputs": [],
   "source": [
    "class QueueStatistics():\n",
    "    def getMean(self, L):\n",
    "        return sum(L) / len(L)\n",
    "\n",
    "    def getErr(self, L):\n",
    "        return (1.96 / math.sqrt(len(L))) * statistics.stdev(L)"
   ]
  },
  {
   "cell_type": "markdown",
   "metadata": {},
   "source": [
    "Agora que temos as classes **Queue** e **QueueStatistics**, queremos descobrir como remover o **transiente** da simulação. Para isso, iremos executar a simulação algumas vezes e plotar um gráfico de retardo médio pelo número de eventos simulados."
   ]
  },
  {
   "cell_type": "code",
   "execution_count": 8,
   "metadata": {},
   "outputs": [
    {
     "data": {
      "image/png": "[encoded data removed]",
      "text/plain": [
       "<matplotlib.figure.Figure at 0x7fd9fc683358>"
      ]
     },
     "metadata": {},
     "output_type": "display_data"
    }
   ],
   "source": [
    "# run a bunch of simulations and collect mean delays and the errors\n",
    "qs = QueueStatistics()\n",
    "means = []\n",
    "errs = []\n",
    "events = []\n",
    "queues = [Queue(0.25, 0.5) for _ in range(100)]\n",
    "for i in range(1001): # we will run 1000 events in each queue\n",
    "    L = []\n",
    "\n",
    "    # advance each queue\n",
    "    for j in range(len(queues)):\n",
    "        queues[j].goToNextEvent()\n",
    "    \n",
    "    # collect metrics\n",
    "    if i % 200 == 0:\n",
    "        L = []\n",
    "        \n",
    "        for j in range(len(queues)):\n",
    "            L.append(queues[j].getMeanDelay())\n",
    "    \n",
    "        means.append(qs.getMean(L))\n",
    "        errs.append(qs.getErr(L))\n",
    "        events.append(i)\n",
    "\n",
    "# configure some plotting properties\n",
    "sns.set_style(\"darkgrid\")\n",
    "sns.set_palette(\"hls\")\n",
    "plt.rcParams['figure.figsize'] = [15, 8]\n",
    "\n",
    "# create a pandas dataframe for the collected data\n",
    "aux = {}\n",
    "aux[\"events executed\"] = events\n",
    "aux[\"mean delay(s)\"] = means\n",
    "df = pd.DataFrame(aux)\n",
    "\n",
    "# plot the means using seaborn\n",
    "ax = sns.pointplot(x=\"events executed\", y=\"mean delay(s)\", data=df, color=\"limegreen\", ci = 95)\n",
    "\n",
    "# plot confidence intervals using matplotlib\n",
    "ax.errorbar(df.index, means, yerr=errs, fmt=\"-\", color=\"limegreen\", capsize = 5, capthick = 2, linewidth = 2)\n",
    "\n",
    "plt.show()"
   ]
  },
  {
   "cell_type": "markdown",
   "metadata": {},
   "source": [
    "Observando o gráfico, concluímos que a partir de 1000 eventos simulados, o efeito do transiente é desprezível. Assim, coletaremos os dados da simulação após ocorrer 1000 eventos. \n",
    "\n",
    "Uma vez que descobrimos como remover o transiente da simulação, podemos proceder para a criação do gráfico de retardo médio por utilização. Para isso, iremos variar a taxa de chegada **arrivalRate** de 0.05 até 0.95 e utilizaremos o valor fixo de 1 para a taxa de saída **departureRate**, obtendo assim, diferentes valores de utilização. Para cada um desses valores de utilização, iremos executar 1000 simulações, e cada uma irá executar 1000 eventos."
   ]
  },
  {
   "cell_type": "code",
   "execution_count": 9,
   "metadata": {},
   "outputs": [
    {
     "data": {
      "image/png": "[encoded data removed]",
      "text/plain": [
       "<matplotlib.figure.Figure at 0x7fda0c9c4978>"
      ]
     },
     "metadata": {},
     "output_type": "display_data"
    }
   ],
   "source": [
    "means = []\n",
    "errs = []\n",
    "utilization = []\n",
    "departureRate = 1\n",
    "\n",
    "# we change the arrival rate to change the utilization\n",
    "for x in range(5, 100, 5):\n",
    "    arrivalRate = x / 100.\n",
    "    L = []\n",
    "    \n",
    "    # run a bunch of simulations and collect mean delays and errors\n",
    "    for j in range(1000):\n",
    "        q = Queue(arrivalRate, departureRate)\n",
    "        \n",
    "        for _ in range(1000):\n",
    "            q.goToNextEvent()\n",
    "    \n",
    "        L.append(q.getMeanDelay())\n",
    "    \n",
    "    utilization.append(round(arrivalRate / departureRate, 2))\n",
    "    means.append(qs.getMean(L))\n",
    "    errs.append(qs.getErr(L))\n",
    "\n",
    "# create a pandas dataframe for the collected data\n",
    "aux = {}\n",
    "aux[\"utilization\"] = utilization\n",
    "aux[\"mean delay(s)\"] = means\n",
    "df = pd.DataFrame(aux)\n",
    "\n",
    "# plot the means using seaborn\n",
    "ax = sns.pointplot(x=\"utilization\", y=\"mean delay(s)\", data=df, color=\"limegreen\", ci = 95)\n",
    "\n",
    "# plot confidence intervals using matplotlib\n",
    "ax.errorbar(df.index, means, yerr=errs, fmt=\"-\", color=\"limegreen\", capsize = 3, elinewidth = 2)\n",
    "\n",
    "plt.show()"
   ]
  },
  {
   "cell_type": "markdown",
   "metadata": {},
   "source": [
    "E portanto, o gráfico obtido é condizente com o esperado."
   ]
  }
 ],
 "metadata": {
  "kernelspec": {
   "display_name": "Python 3",
   "language": "python",
   "name": "python3"
  },
  "language_info": {
   "codemirror_mode": {
    "name": "ipython",
    "version": 3
   },
   "file_extension": ".py",
   "mimetype": "text/x-python",
   "name": "python",
   "nbconvert_exporter": "python",
   "pygments_lexer": "ipython3",
   "version": "3.6.5"
  }
 },
 "nbformat": 4,
 "nbformat_minor": 2
}
