{
 "cells": [
  {
   "cell_type": "markdown",
   "metadata": {},
   "source": [
    "# Segundo Exercício\n",
    "\n",
    "### Aluno: Matheus Jun Ota\n",
    "### RA: 138889\n",
    "\n",
    "> Fazer uma simulação com trace de dados como ordenador de eventos (chegada de pacote), plotar gráfico tamanho médio da fila x utilização. Entregar relatório com código fonte e gráfico e explicação sobre o simulador e resultados encontrados. Os registros dos arquivos contém a hora de chegada do pacotes em segundos e o tamanho do pacote.\n",
    "\n",
    "Primeiramente, iremos criar uma classe para ler o arquivo com os instantes de chegada e o tamanho de cada pacote. Além disso, essa classe irá também computar o intervalo entre chegada de pacotes, a média de pacotes que chegam por segundo, e o tamanho médio dos pacotes."
   ]
  },
  {
   "cell_type": "code",
   "execution_count": 1,
   "metadata": {},
   "outputs": [],
   "source": [
    "import numpy as np\n",
    "import pandas as pd\n",
    "import seaborn as sns\n",
    "import itertools\n",
    "import matplotlib.pyplot as plt\n",
    "import math\n",
    "import random\n",
    "import statistics\n",
    "\n",
    "class QueueFileReader():\n",
    "    def __init__(self):\n",
    "        file = open(\"data.txt\")\n",
    "        \n",
    "        # read from file\n",
    "        arrivalTimes = []\n",
    "        self.packetsSizes = []\n",
    "        self.packetsSizesIdx = 0\n",
    "        \n",
    "        for line in file:\n",
    "            lineItems = line.split()\n",
    "            \n",
    "            arrivalTimes.append(float(lineItems[0]))\n",
    "            self.packetsSizes.append(int(lineItems[1]))\n",
    "        \n",
    "        # compute arrival intervals from the arrival times\n",
    "        self.arrivalIntervals = [arrivalTimes[0]]\n",
    "        self.arrivalIntervalsIdx = 0\n",
    "        for i in range(1, len(arrivalTimes)):\n",
    "            self.arrivalIntervals.append(arrivalTimes[i] - arrivalTimes[i - 1])\n",
    "        \n",
    "        # estimate arrival rate and mean packet size\n",
    "        self.arrivalRate = 1./(sum(self.arrivalIntervals) / len(self.arrivalIntervals))\n",
    "        self.meanPacketSize = sum(self.packetsSizes) / len(self.packetsSizes)\n",
    "    \n",
    "    def getNextArrivalInterval(self):\n",
    "        if self.arrivalIntervalsIdx >= len(self.arrivalIntervals):\n",
    "            return None\n",
    "        \n",
    "        self.arrivalIntervalsIdx += 1\n",
    "        return self.arrivalIntervals[self.arrivalIntervalsIdx - 1]\n",
    "    \n",
    "    def reset(self):\n",
    "        self.arrivalIntervalsIdx = 0\n",
    "        self.packetsSizesIdx = 0"
   ]
  },
  {
   "cell_type": "markdown",
   "metadata": {},
   "source": [
    "Note que, por enquanto, nós só temos o tamanho do pacote, mas nós precisamos estimar o tempo de serviço. Seja $\\alpha$ o tempo necessário pelo servidor para processar 1 bit. Assim $\\alpha * \\mathbf{meanPacketSize}$ nos dá o tempo médio necessário para processar cada pacote. Além disso, defina $\\beta = 1/\\alpha$, então $\\beta * 1/\\mathbf{meanPacketSize}$ indica o número de pacotes servidos por segundo. Temos então o seguinte código para o método **getNextServiceTime**."
   ]
  },
  {
   "cell_type": "code",
   "execution_count": 2,
   "metadata": {},
   "outputs": [],
   "source": [
    "class QueueFileReader(QueueFileReader):\n",
    "    def setBeta(self, beta):\n",
    "        self.alpha = 1./beta\n",
    "        \n",
    "    def getNextServiceTime(self):\n",
    "        if self.packetsSizesIdx >= len(self.packetsSizes):\n",
    "            return None\n",
    "        \n",
    "        self.packetsSizesIdx += 1\n",
    "        return self.alpha * self.packetsSizes[self.packetsSizesIdx - 1]\n",
    "    "
   ]
  },
  {
   "cell_type": "markdown",
   "metadata": {},
   "source": [
    "Outra conclusão do raciocínio acima, é que podemos utilizar a fórmula $\\beta * 1/\\mathbf{meanPacketSize}$ para entender como devemos variar $\\beta$ para plotar o gráfico de tamanho médio da fila por utilização. Seja $\\lambda$ a taxa de chegada de pacotes, isto é, $\\lambda = \\mathbf{arrivalRate}$, e $\\mu$ a taxa de serviço, isto é, $\\mu = \\beta * 1/\\mathbf{meanPacketSize}$, queremos que encontrar $\\alpha$ tal que:\n",
    "\n",
    "$$\\lambda < \\mu = \\beta * 1/\\mathbf{meanPacketSize} \\implies \\lambda * \\mathbf{meanPacketSize}  < \\beta$$"
   ]
  },
  {
   "cell_type": "code",
   "execution_count": 3,
   "metadata": {},
   "outputs": [
    {
     "name": "stdout",
     "output_type": "stream",
     "text": [
      "lambda: 1848.1340423597308\n",
      "beta lower bound: 1236271.906526219\n"
     ]
    }
   ],
   "source": [
    "queueFileReader = QueueFileReader()\n",
    "print(\"lambda: \" + str(queueFileReader.arrivalRate))\n",
    "print(\"beta lower bound: \" + str(queueFileReader.arrivalRate * queueFileReader.meanPacketSize))"
   ]
  },
  {
   "cell_type": "markdown",
   "metadata": {},
   "source": [
    "E portanto, vamos variar $beta$ de $1236270$ a $10^{\\ 9}$.\n",
    "\n",
    "Agora que temos a classe **QueueFileReader**, nós iremos utilizar a mesma classe **Queue** do Primeiro Exercício mas obtendo os intervalos de chegada e de serviço com os métodos **getNextArrivalInterval** e **getNextServiceTime**."
   ]
  },
  {
   "cell_type": "code",
   "execution_count": 4,
   "metadata": {},
   "outputs": [],
   "source": [
    "class Queue():\n",
    "    def __init__(self, queueFileReader):\n",
    "        self.usersInQueue = 0\n",
    "        self.currTime = 0\n",
    "        self.queueFileReader = queueFileReader\n",
    "        self.arrivalTime = self.queueFileReader.getNextArrivalInterval()\n",
    "        self.departureTime = float(\"inf\")\n",
    "        self.totalQ = 0\n",
    "    \n",
    "    def getRandomTime(self, param):\n",
    "        return random.expovariate(param)\n",
    "    \n",
    "    def goToNextEvent(self):\n",
    "        if self.arrivalTime < self.departureTime:\n",
    "            self.totalQ += self.usersInQueue * (self.arrivalTime - self.currTime)\n",
    "            self.currTime = self.arrivalTime\n",
    "            self.handleArrivalEvent()\n",
    "        else:\n",
    "            self.totalQ += self.usersInQueue * (self.departureTime - self.currTime)\n",
    "            self.currTime = self.departureTime\n",
    "            self.handleDepartureEvent()\n",
    "    \n",
    "    def handleArrivalEvent(self):\n",
    "        self.usersInQueue += 1\n",
    "\n",
    "        if self.usersInQueue <= 1:\n",
    "            self.departureTime = self.currTime + self.queueFileReader.getNextServiceTime()\n",
    "\n",
    "        self.arrivalTime = self.currTime + self.queueFileReader.getNextArrivalInterval()\n",
    "    \n",
    "    def handleDepartureEvent(self):\n",
    "        self.usersInQueue -= 1\n",
    "        \n",
    "        if self.usersInQueue > 0:\n",
    "            self.departureTime = self.currTime + self.queueFileReader.getNextServiceTime()\n",
    "        else:\n",
    "            self.departureTime = float(\"inf\")\n",
    "    \n",
    "    def getMeanQueueSize(self):\n",
    "        if self.currTime == 0:\n",
    "            return 0\n",
    "        else:\n",
    "            return self.totalQ / self.currTime"
   ]
  },
  {
   "cell_type": "markdown",
   "metadata": {},
   "source": [
    "Além de alterar o modo como obtemos o próximo tempo de chegada e de saída de cada pacote. Nós também adicionamos uma variável **totalQ** que é utilizada para calcular o tamanho médio da fila. Para entender a maneira que estamos incrementando a variável **totalQ** é preciso antes entender como ela é definida. Seja $Q(t)$ uma função que retorna o tamanho da fila no tempo $t$, e seja $T$ o tempo total de simulação. Defina então **totalQ** como sendo $\\int_{t = 0}^{T} Q(t)$. Note então que podemos calcular o tamanho médio $q$ da fila através da fórmula:\n",
    "\n",
    "$q = \\frac{1}{T} \\int_{t = 0}^{T} Q(t)$\n",
    "\n",
    "que é exatamente o que é feito no código.\n",
    "\n",
    "Agora vamos plotar o gráfico da mesma maneira que fizemos no Primeiro Exercício, com a diferença de que nesse caso só executaremos uma simulação, que é correspondente ao trace do arquivo. Além disso, note que a variação de β não é feita de maneira linear pois β não é linear na utilização (eixo x do gráfico)."
   ]
  },
  {
   "cell_type": "code",
   "execution_count": 5,
   "metadata": {},
   "outputs": [
    {
     "data": {
      "image/png": "[encoded data removed]",
      "text/plain": [
       "<matplotlib.figure.Figure at 0x7f29741d4518>"
      ]
     },
     "metadata": {},
     "output_type": "display_data"
    }
   ],
   "source": [
    "means = []\n",
    "utilization = []\n",
    "\n",
    "# we change the arrival rate to change the utilization\n",
    "beta = 1236270\n",
    "while beta <= 10**9:\n",
    "    serviceRate = beta * 1./(queueFileReader.meanPacketSize)\n",
    "    \n",
    "    queueFileReader.reset()\n",
    "    queueFileReader.setBeta(beta)\n",
    "    \n",
    "    q = Queue(queueFileReader)\n",
    "\n",
    "    for _ in range(10000):\n",
    "        q.goToNextEvent()\n",
    "    \n",
    "    utilization.append(round(queueFileReader.arrivalRate / serviceRate, 2))\n",
    "    means.append(q.getMeanQueueSize())\n",
    "    \n",
    "    beta *= 1.15\n",
    "\n",
    "# create a pandas dataframe for the collected data\n",
    "aux = {}\n",
    "aux[\"utilization\"] = utilization\n",
    "aux[\"mean queue size\"] = means\n",
    "df = pd.DataFrame(aux)\n",
    "\n",
    "# configure some plotting properties\n",
    "sns.set_style(\"darkgrid\")\n",
    "sns.set_palette(\"hls\")\n",
    "plt.rcParams['figure.figsize'] = [15, 8]\n",
    "\n",
    "# plot the means using seaborn\n",
    "ax = sns.pointplot(x=\"utilization\", y=\"mean queue size\", data=df, color=\"limegreen\", ci = 95)\n",
    "\n",
    "plt.show()"
   ]
  },
  {
   "cell_type": "markdown",
   "metadata": {},
   "source": [
    "E portanto, o gráfico obtido foi condizente com o esperado."
   ]
  }
 ],
 "metadata": {
  "kernelspec": {
   "display_name": "Python 3",
   "language": "python",
   "name": "python3"
  },
  "language_info": {
   "codemirror_mode": {
    "name": "ipython",
    "version": 3
   },
   "file_extension": ".py",
   "mimetype": "text/x-python",
   "name": "python",
   "nbconvert_exporter": "python",
   "pygments_lexer": "ipython3",
   "version": "3.6.5"
  }
 },
 "nbformat": 4,
 "nbformat_minor": 2
}
